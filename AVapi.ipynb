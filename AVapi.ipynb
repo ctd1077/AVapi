{
 "cells": [
  {
   "cell_type": "markdown",
   "metadata": {},
   "source": [
    "# Alpha Vantage API \n",
    "* Under Construction\n",
    "* Activate the blocks of code\n",
    "* Enter in your stock symbol\n",
    "* Enter what time series you would like to see"
   ]
  },
  {
   "cell_type": "code",
   "execution_count": 55,
   "metadata": {},
   "outputs": [],
   "source": [
    "#Alpha Vatange API APP\n",
    "\n",
    "import requests\n",
    "import numpy as np\n",
    "import pandas as pd\n",
    "import json as js\n",
    "import matplotlib.pyplot as plt\n",
    "from matplotlib.ticker import MaxNLocator"
   ]
  },
  {
   "cell_type": "code",
   "execution_count": 2,
   "metadata": {},
   "outputs": [],
   "source": [
    "def fetch_symbol(stock):\n",
    "    return requests.get(api_root + api_series + stock + api, stream=False).json()"
   ]
  },
  {
   "cell_type": "code",
   "execution_count": 3,
   "metadata": {},
   "outputs": [],
   "source": [
    "def company_symbol():\n",
    "    try:\n",
    "        stc = ''\n",
    "        while not stc:\n",
    "            stc = input(\"What stock would you like to view? \")\n",
    "        stock = fetch_symbol(stc)\n",
    "        if len(stc) == 0:\n",
    "            print(\"Please enter a symbol.\")\n",
    "    except requests.exceptions.ConnectionError:\n",
    "        print(\"Couldn't connect to server! Please check the network?\")\n",
    "    return stock"
   ]
  },
  {
   "cell_type": "code",
   "execution_count": 4,
   "metadata": {},
   "outputs": [],
   "source": [
    "def series():\n",
    "    \"\"\"This function promts the user for the desired\n",
    "    time series. Day, week, month, etc\"\"\"\n",
    "    while True:\n",
    "        t_type = input('Please enter time series you would like to see. ' \\\n",
    "                  'Daily[1], Weekly[2], Monthly[3]: ')\n",
    "        if t_type == '1':\n",
    "            t_type = 'Time Series (Daily)'\n",
    "            return t_type\n",
    "        elif t_type == '2':\n",
    "            t_type = 'Weekly Time Series'\n",
    "            return t_type\n",
    "        elif t_type == '3':\n",
    "            t_type = 'Monthly Time Series'\n",
    "            return t_type\n",
    "        else:\n",
    "            print('Error')\n",
    "            print(t_type)\n",
    "            continue\n",
    "    return t_type"
   ]
  },
  {
   "cell_type": "code",
   "execution_count": 9,
   "metadata": {},
   "outputs": [],
   "source": [
    "def time_series(t_series):\n",
    "    \"\"\"The time_series function takes the selected time series and return\n",
    "    the correct format for the url to retrive the symbol time series\"\"\"\n",
    "    #try except block here    \n",
    "    if t_series == 'Time Series (Daily)':\n",
    "        api_series = '/query?function=TIME_SERIES_DAILY&symbol='\n",
    "        return api_series\n",
    "    elif t_series == 'Weekly Time Series':\n",
    "        api_series = '/query?function=TIME_SERIES_WEEKLY&symbol='\n",
    "        return api_series\n",
    "    elif t_series == 'Monthly Time Series':\n",
    "        api_series = '/query?function=TIME_SERIES_MONTHLY&symbol='\n",
    "        return api_series\n",
    "    else:\n",
    "        print('Error') #DeBug\n",
    "        print(t_series) #DeBug"
   ]
  },
  {
   "cell_type": "code",
   "execution_count": 10,
   "metadata": {},
   "outputs": [],
   "source": [
    "def date_price_df(fhand, t_series):\n",
    "    \"\"\"The date_price_df function takes the file handle and creates a simple\n",
    "    data frame made up of the date and price\"\"\"\n",
    "    lst = []\n",
    "    for key, values in fhand.items():\n",
    "        if key == t_series:\n",
    "            for date, sinfo in values.items():\n",
    "                #Finds the date and values for stock\n",
    "                for cols, nums in sinfo.items():\n",
    "                    #finds the closing price\n",
    "                    if cols == '4. close':\n",
    "                        #create list for date and price key values\n",
    "                        lst.append([date,nums])\n",
    "    return lst"
   ]
  },
  {
   "cell_type": "code",
   "execution_count": 7,
   "metadata": {},
   "outputs": [
    {
     "name": "stdout",
     "output_type": "stream",
     "text": [
      "Please enter time series you would like to see. Daily[1], Weekly[2], Monthly[3]: 1\n",
      "What stock would you like to view? fnma\n"
     ]
    }
   ],
   "source": [
    "t_series = series()\n",
    "api_root = 'https://www.alphavantage.co'\n",
    "api_series = time_series(t_series)\n",
    "api = '&apikey=EKFVA2O5LEO3WL88'\n",
    "fhand = company_symbol()"
   ]
  },
  {
   "cell_type": "markdown",
   "metadata": {},
   "source": [
    "## This Block loops through the file handle to extract the date and price of the stock for that date"
   ]
  },
  {
   "cell_type": "code",
   "execution_count": 72,
   "metadata": {},
   "outputs": [],
   "source": [
    "def createDframe(fhand):\n",
    "    \"\"\"This function finds the date and price for the selected stock\n",
    "    and creates and returns the dataframe\"\"\"\n",
    "    lst = []\n",
    "    for key, values in fhand.items():\n",
    "        if key == t_series:\n",
    "            for date, sinfo in values.items():\n",
    "                #Finds the date and values for stock\n",
    "                for cols, nums in sinfo.items():\n",
    "                    #finds the closing price\n",
    "                    if cols == '4. close':\n",
    "                        #create list for date and price key values\n",
    "                        lst.append([date,nums])     \n",
    "    df = pd.DataFrame(lst,columns=['Date','Price'])\n",
    "    df = df.set_index('Date')\n",
    "    df.sort_index(inplace=True)\n",
    "    return df"
   ]
  },
  {
   "cell_type": "code",
   "execution_count": 78,
   "metadata": {},
   "outputs": [
    {
     "data": {
      "text/html": [
       "<div>\n",
       "<style scoped>\n",
       "    .dataframe tbody tr th:only-of-type {\n",
       "        vertical-align: middle;\n",
       "    }\n",
       "\n",
       "    .dataframe tbody tr th {\n",
       "        vertical-align: top;\n",
       "    }\n",
       "\n",
       "    .dataframe thead th {\n",
       "        text-align: right;\n",
       "    }\n",
       "</style>\n",
       "<table border=\"1\" class=\"dataframe\">\n",
       "  <thead>\n",
       "    <tr style=\"text-align: right;\">\n",
       "      <th></th>\n",
       "      <th>Price</th>\n",
       "    </tr>\n",
       "    <tr>\n",
       "      <th>Date</th>\n",
       "      <th></th>\n",
       "    </tr>\n",
       "  </thead>\n",
       "  <tbody>\n",
       "    <tr>\n",
       "      <th>2018-12-10</th>\n",
       "      <td>1.2000</td>\n",
       "    </tr>\n",
       "    <tr>\n",
       "      <th>2018-12-11</th>\n",
       "      <td>1.1800</td>\n",
       "    </tr>\n",
       "    <tr>\n",
       "      <th>2018-12-12</th>\n",
       "      <td>1.1400</td>\n",
       "    </tr>\n",
       "    <tr>\n",
       "      <th>2018-12-13</th>\n",
       "      <td>1.1300</td>\n",
       "    </tr>\n",
       "    <tr>\n",
       "      <th>2018-12-14</th>\n",
       "      <td>1.1300</td>\n",
       "    </tr>\n",
       "  </tbody>\n",
       "</table>\n",
       "</div>"
      ],
      "text/plain": [
       "             Price\n",
       "Date              \n",
       "2018-12-10  1.2000\n",
       "2018-12-11  1.1800\n",
       "2018-12-12  1.1400\n",
       "2018-12-13  1.1300\n",
       "2018-12-14  1.1300"
      ]
     },
     "execution_count": 78,
     "metadata": {},
     "output_type": "execute_result"
    }
   ],
   "source": [
    "createDframe(fhand).head()"
   ]
  },
  {
   "cell_type": "code",
   "execution_count": 73,
   "metadata": {},
   "outputs": [],
   "source": [
    "def createDframe2(fhand):\n",
    "    \"\"\"This function finds the date and volume for the selected stock\n",
    "    and creates and returns the dataframe\"\"\"\n",
    "    lst = []\n",
    "    for key, values in fhand.items():\n",
    "        if key == t_series:\n",
    "            for date, sinfo in values.items():\n",
    "                #Finds the date and values for stock\n",
    "                for cols, vol in sinfo.items():\n",
    "                    #finds the volume\n",
    "                    if cols == '5. volume':\n",
    "                        #create list for date and volume key values\n",
    "                        lst.append([date,vol])\n",
    "            \n",
    "\n",
    "    df = pd.DataFrame(lst,columns=['Date','Volume'])\n",
    "    df = df.set_index('Date')\n",
    "    df.sort_index(inplace=True)\n",
    "    return df"
   ]
  },
  {
   "cell_type": "code",
   "execution_count": 77,
   "metadata": {},
   "outputs": [
    {
     "data": {
      "text/html": [
       "<div>\n",
       "<style scoped>\n",
       "    .dataframe tbody tr th:only-of-type {\n",
       "        vertical-align: middle;\n",
       "    }\n",
       "\n",
       "    .dataframe tbody tr th {\n",
       "        vertical-align: top;\n",
       "    }\n",
       "\n",
       "    .dataframe thead th {\n",
       "        text-align: right;\n",
       "    }\n",
       "</style>\n",
       "<table border=\"1\" class=\"dataframe\">\n",
       "  <thead>\n",
       "    <tr style=\"text-align: right;\">\n",
       "      <th></th>\n",
       "      <th>Volume</th>\n",
       "    </tr>\n",
       "    <tr>\n",
       "      <th>Date</th>\n",
       "      <th></th>\n",
       "    </tr>\n",
       "  </thead>\n",
       "  <tbody>\n",
       "    <tr>\n",
       "      <th>2018-12-10</th>\n",
       "      <td>4341718</td>\n",
       "    </tr>\n",
       "    <tr>\n",
       "      <th>2018-12-11</th>\n",
       "      <td>2381355</td>\n",
       "    </tr>\n",
       "    <tr>\n",
       "      <th>2018-12-12</th>\n",
       "      <td>4513631</td>\n",
       "    </tr>\n",
       "    <tr>\n",
       "      <th>2018-12-13</th>\n",
       "      <td>1554453</td>\n",
       "    </tr>\n",
       "    <tr>\n",
       "      <th>2018-12-14</th>\n",
       "      <td>1693598</td>\n",
       "    </tr>\n",
       "  </tbody>\n",
       "</table>\n",
       "</div>"
      ],
      "text/plain": [
       "             Volume\n",
       "Date               \n",
       "2018-12-10  4341718\n",
       "2018-12-11  2381355\n",
       "2018-12-12  4513631\n",
       "2018-12-13  1554453\n",
       "2018-12-14  1693598"
      ]
     },
     "execution_count": 77,
     "metadata": {},
     "output_type": "execute_result"
    }
   ],
   "source": [
    "createDframe2(fhand).head()"
   ]
  },
  {
   "cell_type": "code",
   "execution_count": 85,
   "metadata": {},
   "outputs": [
    {
     "data": {
      "text/plain": [
       "Text(0.5,1,'Test Chart')"
      ]
     },
     "execution_count": 85,
     "metadata": {},
     "output_type": "execute_result"
    },
    {
     "data": {
      "image/png": "[encoded data removed]",
      "text/plain": [
       "<Figure size 432x288 with 1 Axes>"
      ]
     },
     "metadata": {},
     "output_type": "display_data"
    }
   ],
   "source": [
    "\"\"\"Test Chart\n",
    "Still need to change xticker\"\"\"\n",
    "%matplotlib inline\n",
    "df = createDframe(fhand)\n",
    "df = df['Price'].astype(float)\n",
    "plt.style.use('seaborn-whitegrid')\n",
    "fig, ax = plt.subplots()\n",
    "fig.autofmt_xdate()\n",
    "ax.xaxis.set_major_locator(MaxNLocator(nbins=6))\n",
    "ax.plot(df)\n",
    "plt.xlabel('Date')\n",
    "plt.ylabel('Volume')\n",
    "plt.title('Test Chart')"
   ]
  },
  {
   "cell_type": "code",
   "execution_count": 71,
   "metadata": {},
   "outputs": [
    {
     "data": {
      "text/plain": [
       "Text(0.5,1,'Test Chart')"
      ]
     },
     "execution_count": 71,
     "metadata": {},
     "output_type": "execute_result"
    },
    {
     "data": {
      "image/png": "[encoded data removed]",
      "text/plain": [
       "<Figure size 432x288 with 1 Axes>"
      ]
     },
     "metadata": {
      "needs_background": "light"
     },
     "output_type": "display_data"
    }
   ],
   "source": [
    "%matplotlib inline\n",
    "df = createDframe2(fhand)\n",
    "df = df['Volume'].astype(float)\n",
    "fig, ax = plt.subplots()\n",
    "fig.autofmt_xdate()\n",
    "ax.xaxis.set_major_locator(MaxNLocator(nbins=6))\n",
    "plt.plot(df)\n",
    "plt.xlabel('Date')\n",
    "plt.ylabel('Volume')\n",
    "plt.title('Test Chart')"
   ]
  },
  {
   "cell_type": "code",
   "execution_count": 11,
   "metadata": {},
   "outputs": [
    {
     "data": {
      "text/plain": [
       "count    100.000000\n",
       "mean       2.282162\n",
       "std        0.632796\n",
       "min        1.060000\n",
       "25%        1.830000\n",
       "50%        2.580000\n",
       "75%        2.730000\n",
       "max        2.990000\n",
       "Name: Price, dtype: float64"
      ]
     },
     "execution_count": 11,
     "metadata": {},
     "output_type": "execute_result"
    }
   ],
   "source": [
    "df.describe()"
   ]
  },
  {
   "cell_type": "code",
   "execution_count": 13,
   "metadata": {},
   "outputs": [
    {
     "ename": "AttributeError",
     "evalue": "'Series' object has no attribute 'info'",
     "output_type": "error",
     "traceback": [
      "\u001b[0;31m---------------------------------------------------------------------------\u001b[0m",
      "\u001b[0;31mAttributeError\u001b[0m                            Traceback (most recent call last)",
      "\u001b[0;32m<ipython-input-13-a74c58233b9e>\u001b[0m in \u001b[0;36m<module>\u001b[0;34m\u001b[0m\n\u001b[0;32m----> 1\u001b[0;31m \u001b[0mdf\u001b[0m\u001b[0;34m.\u001b[0m\u001b[0minfo\u001b[0m\u001b[0;34m(\u001b[0m\u001b[0;34m)\u001b[0m\u001b[0;34m\u001b[0m\u001b[0;34m\u001b[0m\u001b[0m\n\u001b[0m",
      "\u001b[0;32m/usr/local/lib/python3.6/dist-packages/pandas/core/generic.py\u001b[0m in \u001b[0;36m__getattr__\u001b[0;34m(self, name)\u001b[0m\n\u001b[1;32m   4374\u001b[0m             \u001b[0;32mif\u001b[0m \u001b[0mself\u001b[0m\u001b[0;34m.\u001b[0m\u001b[0m_info_axis\u001b[0m\u001b[0;34m.\u001b[0m\u001b[0m_can_hold_identifiers_and_holds_name\u001b[0m\u001b[0;34m(\u001b[0m\u001b[0mname\u001b[0m\u001b[0;34m)\u001b[0m\u001b[0;34m:\u001b[0m\u001b[0;34m\u001b[0m\u001b[0;34m\u001b[0m\u001b[0m\n\u001b[1;32m   4375\u001b[0m                 \u001b[0;32mreturn\u001b[0m \u001b[0mself\u001b[0m\u001b[0;34m[\u001b[0m\u001b[0mname\u001b[0m\u001b[0;34m]\u001b[0m\u001b[0;34m\u001b[0m\u001b[0;34m\u001b[0m\u001b[0m\n\u001b[0;32m-> 4376\u001b[0;31m             \u001b[0;32mreturn\u001b[0m \u001b[0mobject\u001b[0m\u001b[0;34m.\u001b[0m\u001b[0m__getattribute__\u001b[0m\u001b[0;34m(\u001b[0m\u001b[0mself\u001b[0m\u001b[0;34m,\u001b[0m \u001b[0mname\u001b[0m\u001b[0;34m)\u001b[0m\u001b[0;34m\u001b[0m\u001b[0;34m\u001b[0m\u001b[0m\n\u001b[0m\u001b[1;32m   4377\u001b[0m \u001b[0;34m\u001b[0m\u001b[0m\n\u001b[1;32m   4378\u001b[0m     \u001b[0;32mdef\u001b[0m \u001b[0m__setattr__\u001b[0m\u001b[0;34m(\u001b[0m\u001b[0mself\u001b[0m\u001b[0;34m,\u001b[0m \u001b[0mname\u001b[0m\u001b[0;34m,\u001b[0m \u001b[0mvalue\u001b[0m\u001b[0;34m)\u001b[0m\u001b[0;34m:\u001b[0m\u001b[0;34m\u001b[0m\u001b[0;34m\u001b[0m\u001b[0m\n",
      "\u001b[0;31mAttributeError\u001b[0m: 'Series' object has no attribute 'info'"
     ]
    }
   ],
   "source": [
    "df.info()"
   ]
  },
  {
   "cell_type": "code",
   "execution_count": null,
   "metadata": {},
   "outputs": [],
   "source": []
  }
 ],
 "metadata": {
  "kernelspec": {
   "display_name": "Python 3",
   "language": "python",
   "name": "python3"
  },
  "language_info": {
   "codemirror_mode": {
    "name": "ipython",
    "version": 3
   },
   "file_extension": ".py",
   "mimetype": "text/x-python",
   "name": "python",
   "nbconvert_exporter": "python",
   "pygments_lexer": "ipython3",
   "version": "3.6.8"
  }
 },
 "nbformat": 4,
 "nbformat_minor": 2
}
